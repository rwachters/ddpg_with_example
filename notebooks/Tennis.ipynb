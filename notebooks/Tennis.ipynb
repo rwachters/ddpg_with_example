{
 "cells": [
  {
   "cell_type": "markdown",
   "metadata": {},
   "source": [
    "# Collaboration and Competition\n",
    "\n",
    "---\n",
    "\n",
    "In this notebook, you will learn how to use the Unity ML-Agents environment for the third project of the [Deep Reinforcement Learning Nanodegree](https://www.udacity.com/course/deep-reinforcement-learning-nanodegree--nd893) program.\n",
    "\n",
    "### 1. Start the Environment\n",
    "\n",
    "We begin by importing the necessary packages.  If the code cell below returns an error, please revisit the project instructions to double-check that you have installed [Unity ML-Agents](https://github.com/Unity-Technologies/ml-agents/blob/master/docs/Installation.md) and [NumPy](http://www.numpy.org/)."
   ]
  },
  {
   "cell_type": "code",
   "execution_count": 1,
   "metadata": {},
   "outputs": [],
   "source": [
    "%load_ext autoreload\n",
    "%autoreload 2\n",
    "from my_unity_environment import MyUnityEnvironment\n",
    "from tennis_environment import TennisEnvironment\n",
    "from model import Actor, Critic\n",
    "from ddpg_agents import DDPGAgents\n",
    "from ddpg_agent import DDPGAgent\n",
    "from replay_buffer import ReplayBuffer\n",
    "from utilities import convert_to_tensor, convert_to_numpy\n",
    "import numpy as np\n",
    "import torch\n",
    "import torch.nn.functional as f\n",
    "import random\n",
    "from collections import deque\n",
    "import sys\n",
    "import time\n",
    "import matplotlib.pyplot as plt\n",
    "%matplotlib inline\n"
   ]
  },
  {
   "cell_type": "markdown",
   "metadata": {},
   "source": [
    "Next, we will start the environment!  **_Before running the code cell below_**, change the `file_name` parameter to match the location of the Unity environment that you downloaded.\n",
    "\n",
    "- **Mac**: `\"path/to/Tennis.app\"`\n",
    "- **Windows** (x86): `\"path/to/Tennis_Windows_x86/Tennis.exe\"`\n",
    "- **Windows** (x86_64): `\"path/to/Tennis_Windows_x86_64/Tennis.exe\"`\n",
    "- **Linux** (x86): `\"path/to/Tennis_Linux/Tennis.x86\"`\n",
    "- **Linux** (x86_64): `\"path/to/Tennis_Linux/Tennis.x86_64\"`\n",
    "- **Linux** (x86, headless): `\"path/to/Tennis_Linux_NoVis/Tennis.x86\"`\n",
    "- **Linux** (x86_64, headless): `\"path/to/Tennis_Linux_NoVis/Tennis.x86_64\"`\n",
    "\n",
    "For instance, if you are using a Mac, then you downloaded `Tennis.app`.  If this file is in the same folder as the notebook, then the line below should appear as follows:\n",
    "```\n",
    "ENV_FILE_NAME = \"Tennis.app\"\n",
    "```"
   ]
  },
  {
   "cell_type": "markdown",
   "metadata": {
    "pycharm": {
     "name": "#%% md\n"
    }
   },
   "source": [
    "Environments contain **_brains_** which are responsible for deciding the actions of their associated agents. Here we check for the first brain available, and set it as the default brain we will be controlling from Python."
   ]
  },
  {
   "cell_type": "code",
   "execution_count": 2,
   "metadata": {
    "pycharm": {
     "name": "#%%\n"
    }
   },
   "outputs": [
    {
     "name": "stderr",
     "output_type": "stream",
     "text": [
      "INFO:unityagents:\n",
      "'Academy' started successfully!\n",
      "Unity Academy name: Academy\n",
      "        Number of Brains: 1\n",
      "        Number of External Brains : 1\n",
      "        Lesson number : 0\n",
      "        Reset Parameters :\n",
      "\t\t\n",
      "Unity brain name: TennisBrain\n",
      "        Number of Visual Observations (per agent): 0\n",
      "        Vector Observation space type: continuous\n",
      "        Vector Observation space size (per agent): 8\n",
      "        Number of stacked Vector Observation: 3\n",
      "        Vector Action space type: continuous\n",
      "        Vector Action space size (per agent): 2\n",
      "        Vector Action descriptions: , \n"
     ]
    }
   ],
   "source": [
    "ENV_FILE_NAME = \"Tennis_Windows_x86_64/Tennis.exe\"\n",
    "\n",
    "#test_env = MyUnityEnvironment(file_name=ENV_FILE_NAME)\n",
    "test_env = MyUnityEnvironment(file_name=ENV_FILE_NAME, no_graphics=True)"
   ]
  },
  {
   "cell_type": "markdown",
   "metadata": {},
   "source": [
    "### 2. Examine the State and Action Spaces\n",
    "\n",
    "In this environment, two agents control rackets to bounce a ball over a net. If an agent hits the ball over the net, it receives a reward of +0.1.  If an agent lets a ball hit the ground or hits the ball out of bounds, it receives a reward of -0.01.  Thus, the goal of each agent is to keep the ball in play.\n",
    "\n",
    "The observation space consists of 8 variables corresponding to the position and velocity of the ball and racket. Two continuous actions are available, corresponding to movement toward (or away from) the net, and jumping. \n",
    "\n",
    "Run the code cell below to print some information about the environment."
   ]
  },
  {
   "cell_type": "code",
   "execution_count": 3,
   "metadata": {},
   "outputs": [
    {
     "name": "stdout",
     "output_type": "stream",
     "text": [
      "Number of agents: 2\n",
      "Size of each action: 2\n",
      "States look like: tensor([ 0.0000,  0.0000,  0.0000,  0.0000,  0.0000,  0.0000,  0.0000,  0.0000,\n",
      "         0.0000,  0.0000,  0.0000,  0.0000,  0.0000,  0.0000,  0.0000,  0.0000,\n",
      "        -6.6528, -1.5000, -0.0000,  0.0000,  6.8317,  6.0000, -0.0000,  0.0000],\n",
      "       device='cuda:0')\n",
      "States have length: 24\n"
     ]
    }
   ],
   "source": [
    "def examine_environment(myenv: MyUnityEnvironment):\n",
    "    # number of agents in the environment\n",
    "    print('Number of agents:', myenv.num_agents)\n",
    "\n",
    "    # number of actions\n",
    "    print('Size of each action:', myenv.action_size)\n",
    "\n",
    "    # examine the state space\n",
    "    print('States look like:', myenv.get_states()[0])\n",
    "    print('States have length:', myenv.state_size)\n",
    "\n",
    "\n",
    "examine_environment(test_env)"
   ]
  },
  {
   "cell_type": "markdown",
   "metadata": {},
   "source": [
    "### 3. Take Random Actions in the Environment\n",
    "\n",
    "In the next code cell, you will learn how to use the Python API to control the agents and receive feedback from the environment.\n",
    "\n",
    "Once this cell is executed, you will watch the agents' performance, if they select actions at random with each time step.  A window should pop up that allows you to observe the agents.\n",
    "\n",
    "Of course, as part of the project, you'll have to change the code so that the agents are able to use their experiences to gradually choose better actions when interacting with the environment!"
   ]
  },
  {
   "cell_type": "code",
   "execution_count": 4,
   "metadata": {},
   "outputs": [],
   "source": [
    "def test_random_agents(myenv: MyUnityEnvironment):\n",
    "    for i in range(10):  # play game for 10 episodes\n",
    "        myenv.reset()  # reset the environment\n",
    "        scores = np.zeros(myenv.num_agents)  # initialize the score\n",
    "        while True:\n",
    "            actions = np.random.randn(myenv.num_agents, myenv.action_size)  # select an action (for each agent)\n",
    "            actions = np.clip(actions, -1, 1)  # clip action values between -1 and 1\n",
    "            _, rewards, dones = myenv.step(actions)  # send all actions to the environment\n",
    "            scores += convert_to_numpy(rewards).squeeze()  # update the score  (for each agent)\n",
    "            if torch.any(dones):  # exit loop if episode finished\n",
    "                break\n",
    "        print('Score (max over agents) from episode {}: {}'.format(i, np.max(scores)))\n",
    "\n",
    "#test_random_agents(test_env)"
   ]
  },
  {
   "cell_type": "markdown",
   "metadata": {},
   "source": []
  },
  {
   "cell_type": "markdown",
   "metadata": {
    "pycharm": {
     "name": "#%% md\n"
    }
   },
   "source": [
    "### 4. Train the Agents with DDPG\n",
    "\n",
    "Run the code cell below to train the agents from scratch.  You are welcome to amend the supplied values of the parameters in the function, to try to see if you can get better performance!\n",
    "\n",
    "Alternatively, you can skip to the next step below (**5. Watch Smart Agents!**), to load the saved model weights from pre-trained agents."
   ]
  },
  {
   "cell_type": "code",
   "execution_count": 5,
   "metadata": {
    "pycharm": {
     "name": "#%%\n"
    }
   },
   "outputs": [],
   "source": [
    "class DDPGAgentsTester:\n",
    "    def __init__(self, ddpg_agents: DDPGAgents,\n",
    "                 myenv: MyUnityEnvironment,\n",
    "                 random_seed=1,\n",
    "                 buffer_size=100000,  # replay buffer size\n",
    "                 noise_start=1.0\n",
    "                 ):\n",
    "        self.ddpg_agents = ddpg_agents\n",
    "        self.myenv = myenv\n",
    "        self.buffer_size = buffer_size\n",
    "        self.scores = []\n",
    "        self.scores_deque = deque(maxlen=100)\n",
    "        self.episode = 0\n",
    "        self.noise = noise_start\n",
    "        np.random.seed(random_seed)\n",
    "        torch.manual_seed(random_seed)\n",
    "        random.seed(random_seed)\n",
    "        #torch.set_num_threads(self.parallel_envs)\n",
    "        self.replay_buffer = ReplayBuffer(buffer_size)\n",
    "\n",
    "    def train_agents(self, n_episodes=10000, max_t=5000, goal=float(\"inf\"), print_every=1000, update_every=1, num_updates=5,\n",
    "                     batch_size=1000, noise_decay=3e-6):\n",
    "        \"\"\" Multi Agent Deep Deterministic Policy Gradient algorithm.\n",
    "\n",
    "        Params\n",
    "        ======\n",
    "            n_episodes (int): maximum number of training episodes\n",
    "            max_t (int): maximum number of timesteps per episode\n",
    "            goal (float): the algorithm will stop when the goal is reached\n",
    "            print_every (int) : print intermediate results every %print_every episodes\n",
    "            update_every (int): update the neural networks every %update_every episodes\n",
    "            num_updates: How many updates to do in a row\n",
    "            batch_size (int): minibatch size\n",
    "            noise_decay (float): noise decay factor = 1.0 - %noise_decay\n",
    "        \"\"\"\n",
    "        noise_decay = 1.0 - noise_decay\n",
    "        start_episode = self.episode\n",
    "        stop_episode = self.episode + n_episodes\n",
    "        steps = 0\n",
    "        start_time = time.time()\n",
    "        for self.episode in range(start_episode, stop_episode):\n",
    "            score = np.zeros(len(self.ddpg_agents))\n",
    "            self.myenv.reset(train_mode=True)\n",
    "            states = self.myenv.get_states()\n",
    "            for t in range(max_t):\n",
    "                steps += 1\n",
    "                # step forward one frame:\n",
    "                actions = self.ddpg_agents.act(states, self.noise)\n",
    "                next_states, rewards, dones = self.myenv.step(actions)\n",
    "\n",
    "                # add sample to replay buffer:\n",
    "                actions = convert_to_tensor(np.vstack(actions))\n",
    "                sample = (states, actions, rewards, next_states, dones)\n",
    "                self.replay_buffer.add(sample)\n",
    "\n",
    "                states = next_states\n",
    "                self.noise *= noise_decay\n",
    "                score += convert_to_numpy(rewards).squeeze()\n",
    "\n",
    "                if torch.any(dones):  # exit loop if episode finished\n",
    "                    break\n",
    "\n",
    "            # update networks every %update_every episodes:\n",
    "            if self.episode % update_every == 0 and len(self.replay_buffer) > self.buffer_size / 2:\n",
    "                for _ in range(num_updates):\n",
    "                    samples = [self.replay_buffer.sample(batch_size) for _ in range(len(self.ddpg_agents))]\n",
    "                    self.ddpg_agents.step(samples)\n",
    "                    self.ddpg_agents.update_target_networks()  #soft update the target network towards the actual networks\n",
    "\n",
    "            self.scores_deque.append(score)\n",
    "            self.scores.append(score)\n",
    "            average_scores = np.mean(self.scores_deque, 0)  # average score over last 100 episodes for each agent\n",
    "            time_per_step = (time.time() - start_time) / steps\n",
    "            print('\\rEpisode {}\\tSteps: {}\\tTime per step: {:.6f}\\tAverage Scores: {:.3f} {:.3f}'\n",
    "                  .format(self.episode, steps, time_per_step, *average_scores), end=\"\")\n",
    "            if self.episode % print_every == 0:\n",
    "                print(\"\\r                                                                                                       \"\\\n",
    "                      , end=\"\")\n",
    "                print('\\rEpisode {}\\tAverage Scores: {:.3f} {:.3f}'.format(self.episode, *average_scores))\n",
    "            if len(self.scores) >= print_every and np.max(average_scores) >= goal:\n",
    "                print('\\nEnvironment solved in {:d} episodes!\\tAverage Score: {:.2f}\\tTime elapsed: {}'.format(\n",
    "                    self.episode, np.max(average_scores), time.time() - start_time))\n",
    "                break\n",
    "\n",
    "    def test_agent(self):\n",
    "        for _ in range(10):\n",
    "            self.myenv.reset(train_mode=True)\n",
    "            states = self.myenv.get_states()\n",
    "            score = np.zeros(len(self.ddpg_agents))\n",
    "            while True:\n",
    "                actions = self.ddpg_agents.act(states, 0.0)\n",
    "                # step forward one frame\n",
    "                next_states, rewards, dones = self.myenv.step(actions)\n",
    "                score += convert_to_numpy(rewards).squeeze()\n",
    "                states = next_states\n",
    "                if torch.any(dones):  # exit loop if episode finished\n",
    "                    break\n",
    "            print(\"Score: {}\".format(score))"
   ]
  },
  {
   "cell_type": "code",
   "execution_count": 14,
   "outputs": [],
   "source": [
    "actor1 = Actor(state_size=24, action_size=2, hidden_layer_sizes=[256, 128, 64], activation_func=f.leaky_relu)\n",
    "actor2 = Actor(state_size=24, action_size=2, hidden_layer_sizes=[256, 128, 64], activation_func=f.leaky_relu)\n",
    "critic1 = Critic(state_size=24, action_size=2, hidden_layer_sizes=[256, 128, 64], activation_func=f.leaky_relu,\n",
    "                 inject_layer=0)\n",
    "critic2 = Critic(state_size=24, action_size=2, hidden_layer_sizes=[256, 128, 64], activation_func=f.leaky_relu,\n",
    "                 inject_layer=0)\n",
    "ddpg_agent1 = DDPGAgent(actor1, critic1, gamma=0.999, tau=1e-3, lr_actor=1e-4, lr_critic=1e-4, weight_decay=0.0)\n",
    "ddpg_agent2 = DDPGAgent(actor2, critic2, gamma=0.999, tau=1e-3, lr_actor=1e-4, lr_critic=1e-4, weight_decay=0.0)\n",
    "ddpg_agent_list = [ddpg_agent1, ddpg_agent2]\n",
    "ddpg_agents = DDPGAgents(ddpg_agent_list)\n",
    "ddpg_agents_tester = DDPGAgentsTester(ddpg_agents, test_env, random_seed=1, buffer_size=100000, noise_start=1.0)"
   ],
   "metadata": {
    "collapsed": false,
    "pycharm": {
     "name": "#%%\n"
    }
   }
  },
  {
   "cell_type": "code",
   "execution_count": 15,
   "metadata": {
    "pycharm": {
     "name": "#%%\n"
    }
   },
   "outputs": [
    {
     "name": "stdout",
     "output_type": "stream",
     "text": [
      "Episode 0\tAverage Scores: -0.010 0.100                                                                 \n",
      "Episode 1000\tAverage Scores: 0.013 0.005                                                               \n",
      "Episode 2000\tAverage Scores: -0.005 0.013                                                              \n",
      "Episode 3000\tAverage Scores: -0.001 0.035                                                              \n",
      "Episode 4000\tAverage Scores: 0.102 0.080                                                               \n",
      "Episode 5000\tAverage Scores: 0.369 0.363                                                               \n",
      "Episode 5417\tSteps: 288732\tTime per step: 0.011593\tAverage Scores: 0.496 0.504\n",
      "Environment solved in 5417 episodes!\tAverage Score: 0.50\tTime elapsed: 3347.141135931015\n"
     ]
    }
   ],
   "source": [
    "ddpg_agents_tester.train_agents(n_episodes=60000, goal=0.5, update_every=20, num_updates=5, batch_size=1000,\n",
    "                                noise_decay=6.93e-6, max_t=240)\n",
    "ddpg_agents.save_checkpoint(\"checkpoint.pth\")"
   ]
  },
  {
   "cell_type": "code",
   "execution_count": 16,
   "metadata": {
    "pycharm": {
     "name": "#%%\n"
    }
   },
   "outputs": [
    {
     "data": {
      "text/plain": "<Figure size 432x288 with 1 Axes>",
      "image/png": "[encoded data removed]"
     },
     "metadata": {
      "needs_background": "light"
     },
     "output_type": "display_data"
    }
   ],
   "source": [
    "scores = np.vstack(ddpg_agents_tester.scores)\n",
    "scores = np.max(scores, 1)\n",
    "fig = plt.figure()\n",
    "ax = fig.add_subplot(111)\n",
    "plt.plot(np.arange(1, len(scores) + 1), scores)\n",
    "plt.ylabel('Score')\n",
    "plt.xlabel('Episode #')\n",
    "plt.show()"
   ]
  },
  {
   "cell_type": "markdown",
   "metadata": {},
   "source": [
    "### 5. Watch Smart Agents!"
   ]
  },
  {
   "cell_type": "code",
   "execution_count": 11,
   "metadata": {
    "pycharm": {
     "name": "#%%\n"
    }
   },
   "outputs": [
    {
     "name": "stdout",
     "output_type": "stream",
     "text": [
      "Score: [2.60000004 2.60000004]\n",
      "Score: [2.60000004 2.50000004]\n",
      "Score: [0.40000001 0.39000001]\n",
      "Score: [2.50000004 2.50000004]\n",
      "Score: [2.60000004 2.60000004]\n",
      "Score: [2.60000004 2.60000004]\n",
      "Score: [2.60000004 2.60000004]\n",
      "Score: [2.60000004 2.60000004]\n",
      "Score: [2.70000004 2.60000004]\n",
      "Score: [1.09000002 1.20000002]\n"
     ]
    }
   ],
   "source": [
    "ddpg_agents.load_checkpoint(\"checkpoint.pth\")\n",
    "ddpg_agents_tester.test_agent()"
   ]
  },
  {
   "cell_type": "markdown",
   "metadata": {
    "pycharm": {
     "name": "#%% md\n"
    }
   },
   "source": [
    "When finished, you can close the environment."
   ]
  },
  {
   "cell_type": "code",
   "execution_count": 11,
   "metadata": {
    "pycharm": {
     "name": "#%%\n"
    }
   },
   "outputs": [],
   "source": [
    "test_env.close()"
   ]
  },
  {
   "cell_type": "code",
   "execution_count": null,
   "outputs": [],
   "source": [],
   "metadata": {
    "collapsed": false,
    "pycharm": {
     "name": "#%%\n"
    }
   }
  }
 ],
 "metadata": {
  "kernelspec": {
   "name": "drlnd39",
   "language": "python",
   "display_name": "drlnd39"
  },
  "language_info": {
   "codemirror_mode": {
    "name": "ipython",
    "version": 3
   },
   "file_extension": ".py",
   "mimetype": "text/x-python",
   "name": "python",
   "nbconvert_exporter": "python",
   "pygments_lexer": "ipython3",
   "version": "3.6.13"
  }
 },
 "nbformat": 4,
 "nbformat_minor": 2
}